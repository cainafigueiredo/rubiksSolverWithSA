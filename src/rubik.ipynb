{
 "cells": [
  {
   "cell_type": "code",
   "execution_count": 1,
   "metadata": {},
   "outputs": [],
   "source": [
    "import re\n",
    "import numpy as np\n",
    "import matplotlib\n",
    "from copy import copy\n",
    "from tqdm import tqdm\n",
    "from typing import Text\n",
    "from matplotlib import pyplot as plt"
   ]
  },
  {
   "cell_type": "code",
   "execution_count": 2,
   "metadata": {},
   "outputs": [],
   "source": [
    "TOP,    YELLOW  = 0, 0\n",
    "LEFT,   ORANGE  = 1, 1\n",
    "FRONT,  BLUE    = 2, 2\n",
    "RIGHT,  RED     = 3, 3\n",
    "BACK,   GREEN   = 4, 4\n",
    "DOWN,   WHITE   = 5, 5\n",
    "\n",
    "FACES = [TOP, LEFT, FRONT, RIGHT, BACK, DOWN]\n",
    "FACE_COLORS = [YELLOW, ORANGE, BLUE, RED, GREEN, WHITE]\n",
    "\n",
    "FACE_MAPPING = {\n",
    "    TOP: \"TOP\",\n",
    "    LEFT: \"LEFT\",\n",
    "    FRONT: \"FRONT\",\n",
    "    RIGHT: \"RIGHT\",\n",
    "    BACK: \"BACK\",\n",
    "    DOWN: \"DOWN\",\n",
    "}\n",
    "\n",
    "COLOR_MAPPING = {\n",
    "    YELLOW: \"YELLOW\",\n",
    "    ORANGE: \"ORANGE\",\n",
    "    BLUE: \"BLUE\",\n",
    "    RED: \"RED\",\n",
    "    GREEN: \"GREEN\",\n",
    "    WHITE: \"WHITE\",\n",
    "}"
   ]
  },
  {
   "cell_type": "code",
   "execution_count": 3,
   "metadata": {},
   "outputs": [],
   "source": [
    "# Consider a coordinate system placed on the center of the cube\n",
    "# X-axis is perpendicular to the right face\n",
    "# Y-axis is perpendicular to the top face\n",
    "# Z-axis is perpendicular to the front face\n",
    "# Cubies are identified by points in this coordinate system\n",
    "\n",
    "CORNER_CUBIES = {\n",
    "    (-1, 1, 1): [(LEFT, 0, 2), (TOP, 2, 0), (FRONT, 0, 0)],\n",
    "    (1, 1, 1): [(RIGHT, 0, 0), (TOP, 2, 2), (FRONT, 0, 2)],\n",
    "    (-1, -1, 1): [(LEFT, 2, 2), (DOWN, 0, 0), (FRONT, 2, 0)],\n",
    "    (1, -1, 1): [(RIGHT, 2, 0), (DOWN, 0, 2), (FRONT, 2, 2)],\n",
    "    (1, 1, -1): [(RIGHT, 0, 2), (TOP, 0, 2), (BACK, 0, 0)],\n",
    "    (-1, 1, -1): [(LEFT, 0, 0), (TOP, 0, 0), (BACK, 0, 2)],\n",
    "    (1, -1, -1): [(RIGHT, 2, 2), (DOWN, 2, 2), (BACK, 2, 0)],\n",
    "    (-1, -1, -1): [(LEFT, 2, 0), (DOWN, 2, 0), (BACK, 2, 2)],\n",
    "}\n",
    "\n",
    "BORDER_CUBIES = {\n",
    "    (-1, 0, 1): [(LEFT, 1, 2), (FRONT, 1, 0)],\n",
    "    (0, 1, 1): [(TOP, 2, 1), (FRONT, 0, 1)],\n",
    "    (1, 0, 1): [(RIGHT, 1, 0), (FRONT, 1, 2)],\n",
    "    (0, -1, 1): [(DOWN, 0, 1), (FRONT, 2, 1)],\n",
    "    (-1, 0, -1): [(LEFT, 1, 0), (BACK, 1, 2)],\n",
    "    (0, 1, -1): [(TOP, 0, 1), (BACK, 0, 1)],\n",
    "    (1, 0, -1): [(RIGHT, 1, 2), (BACK, 1, 0)],\n",
    "    (0, -1, -1): [(DOWN, 2, 1), (BACK, 2, 1)],\n",
    "    (-1, 1, 0): [(LEFT, 0, 1), (TOP, 1, 0)],\n",
    "    (-1, -1, 0): [(LEFT, 2, 1), (DOWN, 1, 0)],\n",
    "    (1, 1, 0): [(RIGHT, 0, 1), (TOP, 1, 2)],\n",
    "    (1, -1, 0): [(RIGHT, 2, 1), (DOWN, 1, 2)],\n",
    "}\n",
    "\n",
    "CENTER_CUBIES = {\n",
    "    (0, 1, 0): [(TOP, 1, 1)],\n",
    "    (-1, 0, 0): [(LEFT, 1, 1)],\n",
    "    (0, 0, 1): [(FRONT, 1, 1)],\n",
    "    (1, 0, 0): [(RIGHT, 1, 1)],\n",
    "    (0, 0, -1): [(BACK, 1, 1)],\n",
    "    (0, -1, 0): [(DOWN, 1, 1)],\n",
    "}\n",
    "\n",
    "ALL_CUBIES = {**CORNER_CUBIES, **BORDER_CUBIES, **CENTER_CUBIES}"
   ]
  },
  {
   "cell_type": "code",
   "execution_count": 66,
   "metadata": {},
   "outputs": [
    {
     "name": "stdout",
     "output_type": "stream",
     "text": [
      "['R', 'L', 'F', 'B', 'U', 'D', \"R'\", \"L'\", \"F'\", \"B'\", \"U'\", \"D'\", 'R2', 'L2', 'F2', 'B2', 'U2', 'D2']\n"
     ]
    }
   ],
   "source": [
    "MOVEMENTS = \"R,L,F,B,U,D,R',L',F',B',U',D',R2,L2,F2,B2,U2,D2\".split(\",\")\n",
    "# MOVEMENTS += [f\"{m1} {m2}\" for m1 in MOVEMENTS for m2 in MOVEMENTS]\n",
    "print(MOVEMENTS)"
   ]
  },
  {
   "cell_type": "code",
   "execution_count": 5,
   "metadata": {},
   "outputs": [],
   "source": [
    "def createSolvedCube():\n",
    "    cube = np.zeros((6, 3, 3))\n",
    "    for face in FACES:\n",
    "        color = FACE_COLORS[face]\n",
    "        for row in range(3):\n",
    "            for column in range(3):\n",
    "                cube[face, row, column] = color\n",
    "    return cube"
   ]
  },
  {
   "cell_type": "code",
   "execution_count": 6,
   "metadata": {},
   "outputs": [],
   "source": [
    "def showCube(cube: np.ndarray):\n",
    "    cmap = matplotlib.colors.ListedColormap([\"black\", *[COLOR_MAPPING[color].lower() for color in FACE_COLORS]])\n",
    "    img = np.zeros((9, 12))\n",
    "    for f, face in enumerate([LEFT, FRONT, RIGHT, BACK]):\n",
    "        img[3:6, f*3:(f+1)*3] = cube[face]+1\n",
    "    for f, face in enumerate([TOP, FRONT, DOWN]):\n",
    "        img[f*3:(f+1)*3, 3:6] = cube[face]+1\n",
    "    plt.figure(figsize=(8,8))\n",
    "    plt.imshow(img, cmap = cmap)\n",
    "    ax = plt.gca()\n",
    "    ax.set_xticks(np.arange(-.5, 12, 1))\n",
    "    ax.set_yticks(np.arange(-.5, 9, 1))\n",
    "    ax.set_xticklabels([])\n",
    "    ax.set_yticklabels([])\n",
    "    ax.grid(color = \"black\", linewidth = 1)"
   ]
  },
  {
   "cell_type": "code",
   "execution_count": 7,
   "metadata": {},
   "outputs": [],
   "source": [
    "def turnRightFace(cube: np.ndarray, angle: int = 90, isClockWise = True):\n",
    "    if (angle % 90) != 0:\n",
    "        raise ValueError(\"Angle should be multiple of 90.\")\n",
    "    if angle < 0:\n",
    "        raise ValueError(\"Angle should be positive. Set isClockWise as True or False to rotate in different directions.\")\n",
    "    nRotations = abs(int(angle / 90))\n",
    "    turnedCube = copy(cube)\n",
    "    facesOrder = [TOP, FRONT, DOWN, BACK] if isClockWise else [DOWN, FRONT, TOP, BACK]\n",
    "    for turn in range(nRotations):\n",
    "        tmp = copy(turnedCube[facesOrder[0], :, -1])\n",
    "        turnedCube[facesOrder[0], :, -1] = turnedCube[facesOrder[1], :, -1]\n",
    "        turnedCube[facesOrder[1], :, -1] = turnedCube[facesOrder[2], :, -1]\n",
    "        turnedCube[facesOrder[2], :, -1] = turnedCube[facesOrder[3], :, 0][::-1]\n",
    "        turnedCube[facesOrder[3], :, 0] = tmp[::-1]\n",
    "        newFace = copy(turnedCube[RIGHT])\n",
    "        for i in range(3):\n",
    "            if isClockWise:\n",
    "                newFace[i, :] = turnedCube[RIGHT, :, i][::-1]\n",
    "            else:\n",
    "                newFace[i, :] = turnedCube[RIGHT, :, 2-i]\n",
    "        turnedCube[RIGHT] = newFace\n",
    "    return turnedCube"
   ]
  },
  {
   "cell_type": "code",
   "execution_count": 8,
   "metadata": {},
   "outputs": [],
   "source": [
    "def turnLeftFace(cube: np.ndarray, angle: int = 90, isClockWise = True):\n",
    "    if (angle % 90) != 0:\n",
    "        raise ValueError(\"Angle should be multiple of 90.\")\n",
    "    if angle < 0:\n",
    "        raise ValueError(\"Angle should be positive. Set isClockWise as True or False to rotate in different directions.\")\n",
    "    nRotations = abs(int(angle / 90))\n",
    "    turnedCube = copy(cube)\n",
    "    facesOrder = [DOWN, FRONT, TOP, BACK] if isClockWise else [TOP, FRONT, DOWN, BACK]\n",
    "    for turn in range(nRotations):\n",
    "        tmp = copy(turnedCube[facesOrder[0], :, 0])\n",
    "        turnedCube[facesOrder[0], :, 0] = turnedCube[facesOrder[1], :, 0]\n",
    "        turnedCube[facesOrder[1], :, 0] = turnedCube[facesOrder[2], :, 0]\n",
    "        turnedCube[facesOrder[2], :, 0] = turnedCube[facesOrder[3], :, -1][::-1]\n",
    "        turnedCube[facesOrder[3], :, -1] = tmp[::-1]\n",
    "        newFace = copy(turnedCube[LEFT])\n",
    "        for i in range(3):\n",
    "            if isClockWise:\n",
    "                newFace[i, :] = turnedCube[LEFT, :, i][::-1]\n",
    "            else:\n",
    "                newFace[i, :] = turnedCube[LEFT, :, 2-i]\n",
    "        turnedCube[LEFT] = newFace\n",
    "    return turnedCube"
   ]
  },
  {
   "cell_type": "code",
   "execution_count": 9,
   "metadata": {},
   "outputs": [],
   "source": [
    "def turnTopFace(cube: np.ndarray, angle: int = 90, isClockWise = True):\n",
    "    if (angle % 90) != 0:\n",
    "        raise ValueError(\"Angle should be multiple of 90.\")\n",
    "    if angle < 0:\n",
    "        raise ValueError(\"Angle should be positive. Set isClockWise as True or False to rotate in different directions.\")\n",
    "    nRotations = abs(int(angle / 90))\n",
    "    turnedCube = copy(cube)\n",
    "    facesOrder = [FRONT, RIGHT, BACK, LEFT] if isClockWise else [FRONT, LEFT, BACK, RIGHT]\n",
    "    for turn in range(nRotations):\n",
    "        tmp = copy(turnedCube[facesOrder[0], 0, :])\n",
    "        turnedCube[facesOrder[0], 0, :] = turnedCube[facesOrder[1], 0, :]\n",
    "        turnedCube[facesOrder[1], 0, :] = turnedCube[facesOrder[2], 0, :]\n",
    "        turnedCube[facesOrder[2], 0, :] = turnedCube[facesOrder[3], 0, :]\n",
    "        turnedCube[facesOrder[3], 0, :] = tmp\n",
    "        newFace = copy(turnedCube[TOP])\n",
    "        for i in range(3):\n",
    "            if isClockWise:\n",
    "                newFace[i, :] = turnedCube[TOP, :, i][::-1]\n",
    "            else:\n",
    "                newFace[i, :] = turnedCube[TOP, :, 2-i]\n",
    "        turnedCube[TOP] = newFace\n",
    "    return turnedCube"
   ]
  },
  {
   "cell_type": "code",
   "execution_count": 10,
   "metadata": {},
   "outputs": [],
   "source": [
    "def turnDownFace(cube: np.ndarray, angle: int = 90, isClockWise = True):\n",
    "    if (angle % 90) != 0:\n",
    "        raise ValueError(\"Angle should be multiple of 90.\")\n",
    "    if angle < 0:\n",
    "        raise ValueError(\"Angle should be positive. Set isClockWise as True or False to rotate in different directions.\")\n",
    "    nRotations = abs(int(angle / 90))\n",
    "    turnedCube = copy(cube)\n",
    "    facesOrder = [FRONT, LEFT, BACK, RIGHT] if isClockWise else [FRONT, RIGHT, BACK, LEFT]\n",
    "    for turn in range(nRotations):\n",
    "        tmp = copy(turnedCube[facesOrder[0], -1, :])\n",
    "        turnedCube[facesOrder[0], -1, :] = turnedCube[facesOrder[1], -1, :]\n",
    "        turnedCube[facesOrder[1], -1, :] = turnedCube[facesOrder[2], -1, :]\n",
    "        turnedCube[facesOrder[2], -1, :] = turnedCube[facesOrder[3], -1, :]\n",
    "        turnedCube[facesOrder[3], -1, :] = tmp\n",
    "        newFace = copy(turnedCube[DOWN])\n",
    "        for i in range(3):\n",
    "            if isClockWise:\n",
    "                newFace[i, :] = turnedCube[DOWN, :, i][::-1]\n",
    "            else:\n",
    "                newFace[i, :] = turnedCube[DOWN, :, 2-i]\n",
    "        turnedCube[DOWN] = newFace\n",
    "    return turnedCube"
   ]
  },
  {
   "cell_type": "code",
   "execution_count": 11,
   "metadata": {},
   "outputs": [],
   "source": [
    "def turnFrontFace(cube: np.ndarray, angle: int = 90, isClockWise = True):\n",
    "    if (angle % 90) != 0:\n",
    "        raise ValueError(\"Angle should be multiple of 90.\")\n",
    "    if angle < 0:\n",
    "        raise ValueError(\"Angle should be positive. Set isClockWise as True or False to rotate in different directions.\")\n",
    "    nRotations = abs(int(angle / 90))\n",
    "    turnedCube = copy(cube)\n",
    "    facesOrder = [TOP, LEFT, DOWN, RIGHT] if isClockWise else [TOP, RIGHT, DOWN, LEFT]\n",
    "    for turn in range(nRotations):\n",
    "        newFace = copy(turnedCube[FRONT])\n",
    "        if isClockWise:\n",
    "            tmp = copy(turnedCube[facesOrder[0], -1, :])\n",
    "            turnedCube[facesOrder[0], -1, :] = turnedCube[facesOrder[1], :, -1][::-1]\n",
    "            turnedCube[facesOrder[1], :, -1] = turnedCube[facesOrder[2], 0, :]\n",
    "            turnedCube[facesOrder[2], 0, :] = turnedCube[facesOrder[3], :, 0][::-1]\n",
    "            turnedCube[facesOrder[3], :, 0] = tmp\n",
    "            for i in range(3):\n",
    "                newFace[i, :] = turnedCube[FRONT, :, i][::-1]\n",
    "        else:\n",
    "            tmp = copy(turnedCube[facesOrder[0], -1, :])\n",
    "            turnedCube[facesOrder[0], -1, :] = turnedCube[facesOrder[1], :, 0]\n",
    "            turnedCube[facesOrder[1], :, 0] = turnedCube[facesOrder[2], 0, :][::-1]\n",
    "            turnedCube[facesOrder[2], 0, :] = turnedCube[facesOrder[3], :, -1]\n",
    "            turnedCube[facesOrder[3], :, -1] = tmp[::-1]\n",
    "            for i in range(3):\n",
    "                newFace[i, :] = turnedCube[FRONT, :, 2-i]\n",
    "        turnedCube[FRONT] = newFace\n",
    "    return turnedCube"
   ]
  },
  {
   "cell_type": "code",
   "execution_count": 12,
   "metadata": {},
   "outputs": [],
   "source": [
    "def turnBackFace(cube: np.ndarray, angle: int = 90, isClockWise = True):\n",
    "    if (angle % 90) != 0:\n",
    "        raise ValueError(\"Angle should be multiple of 90.\")\n",
    "    if angle < 0:\n",
    "        raise ValueError(\"Angle should be positive. Set isClockWise as True or False to rotate in different directions.\")\n",
    "    nRotations = abs(int(angle / 90))\n",
    "    turnedCube = copy(cube)\n",
    "    facesOrder = [TOP, RIGHT, DOWN, LEFT] if isClockWise else [TOP, LEFT, DOWN, RIGHT]\n",
    "    for turn in range(nRotations):\n",
    "        newFace = copy(turnedCube[BACK])\n",
    "        if isClockWise:\n",
    "            tmp = copy(turnedCube[facesOrder[0], 0, :])\n",
    "            turnedCube[facesOrder[0], 0, :] = turnedCube[facesOrder[1], :, -1]\n",
    "            turnedCube[facesOrder[1], :, -1] = turnedCube[facesOrder[2], -1, :][::-1]\n",
    "            turnedCube[facesOrder[2], -1, :] = turnedCube[facesOrder[3], :, 0]\n",
    "            turnedCube[facesOrder[3], :, 0] = tmp[::-1]\n",
    "            for i in range(3):\n",
    "                newFace[i, :] = turnedCube[BACK, :, i][::-1]\n",
    "        else:\n",
    "            tmp = copy(turnedCube[facesOrder[0], 0, :])\n",
    "            turnedCube[facesOrder[0], 0, :] = turnedCube[facesOrder[1], :, 0][::-1]\n",
    "            turnedCube[facesOrder[1], :, 0] = turnedCube[facesOrder[2], -1, :]\n",
    "            turnedCube[facesOrder[2], -1, :] = turnedCube[facesOrder[3], :, -1][::-1]\n",
    "            turnedCube[facesOrder[3], :, -1] = tmp\n",
    "            for i in range(3):\n",
    "                newFace[i, :] = turnedCube[BACK, :, 2-i]\n",
    "        turnedCube[BACK] = newFace\n",
    "    return turnedCube"
   ]
  },
  {
   "cell_type": "code",
   "execution_count": 13,
   "metadata": {},
   "outputs": [],
   "source": [
    "def validateMovement(movement: str):\n",
    "    if len(movement) > 2:\n",
    "        raise ValueError(\"Movement can not be a string with more than 2 characters.\")\n",
    "\n",
    "    if len(movement) == 2:\n",
    "        secondChar = movement[1]\n",
    "        if secondChar not in [\"'\", \"2\"]:\n",
    "            raise ValueError(f\"{movement} is not a valid movement.\")\n",
    "\n",
    "    return True"
   ]
  },
  {
   "cell_type": "code",
   "execution_count": 14,
   "metadata": {},
   "outputs": [],
   "source": [
    "def decodeMovement(movement: str):\n",
    "    validateMovement(movement)\n",
    "\n",
    "    face = movement[0].upper()\n",
    "    if face not in [\"U\", \"D\", \"L\", \"R\", \"F\", \"B\"]:\n",
    "        raise ValueError(f\"{face} is not a valid face.\")\n",
    "    turnFunction = {\n",
    "        \"U\": turnTopFace, \"D\": turnDownFace, \"R\": turnRightFace,\n",
    "        \"L\": turnLeftFace, \"F\": turnFrontFace, \"B\": turnBackFace,\n",
    "    }[face]\n",
    "\n",
    "    angle = 90\n",
    "    isClockWise = True\n",
    "\n",
    "    if len(movement) == 2:\n",
    "        secondChar = movement[1]\n",
    "        angle = 180 if secondChar == \"2\" else angle\n",
    "        isClockWise = False if secondChar == \"'\" else True\n",
    "    \n",
    "    return (turnFunction, angle, isClockWise)"
   ]
  },
  {
   "cell_type": "code",
   "execution_count": 15,
   "metadata": {},
   "outputs": [],
   "source": [
    "def decodeMovements(movements: str):\n",
    "    movements = re.sub(\"\\s*X\", \"\", movements)\n",
    "    movements = movements.strip().split(\" \")\n",
    "    decodedMovements = []\n",
    "    for movement in movements:\n",
    "        if movement != \"\":\n",
    "            decodedMovements.append(decodeMovement(movement))\n",
    "    return decodedMovements"
   ]
  },
  {
   "cell_type": "code",
   "execution_count": 16,
   "metadata": {},
   "outputs": [],
   "source": [
    "def reverseMovements(movements: str):\n",
    "    decodedMovements = decodeMovements(movements)\n",
    "    movements = movements.strip().split(\" \")\n",
    "    reverse = []\n",
    "    for movement, decoded in zip(movements, decodedMovements):\n",
    "        faceChar = movement[0]\n",
    "        angle = decoded[1]\n",
    "        isClockWise = not decoded[2]\n",
    "        movementString = faceChar\n",
    "        movementString = f\"{movementString}2\" if angle == 180 else f\"{movementString}'\" if not isClockWise else movementString\n",
    "        reverse.append(movementString)\n",
    "    return \" \".join(reverse[::-1])"
   ]
  },
  {
   "cell_type": "code",
   "execution_count": 17,
   "metadata": {},
   "outputs": [],
   "source": [
    "def turn(cube: np.ndarray, movements: str):\n",
    "    decodedMovements = decodeMovements(movements)\n",
    "    \n",
    "    turnedCube = copy(cube)\n",
    "    for turnFunction, angle, isClockWise in decodedMovements:\n",
    "        turnedCube = turnFunction(turnedCube, angle = angle, isClockWise = isClockWise)\n",
    "\n",
    "    return turnedCube"
   ]
  },
  {
   "cell_type": "code",
   "execution_count": 18,
   "metadata": {},
   "outputs": [],
   "source": [
    "def sampleCube(nSamples = 1, shuffleIterations = 500):\n",
    "    cube = createSolvedCube()\n",
    "    sample = []\n",
    "    for i in range(nSamples):\n",
    "        movements = \" \".join(np.random.choice(MOVEMENTS, shuffleIterations))\n",
    "        newCube = turn(cube, movements)\n",
    "\n",
    "        sample.append([newCube, movements])\n",
    "    return sample"
   ]
  },
  {
   "attachments": {},
   "cell_type": "markdown",
   "metadata": {},
   "source": [
    "# **Simulated Annealing Implementation**"
   ]
  },
  {
   "cell_type": "code",
   "execution_count": 56,
   "metadata": {},
   "outputs": [],
   "source": [
    "def simulatedAnnealing(\n",
    "    initialState, \n",
    "    neighborsFunction, \n",
    "    utilityFunction, \n",
    "    initialTemperature = 5000, \n",
    "    simulationSteps = 100,\n",
    "    tolerance = 1e-5,\n",
    "    annealingStrat = \"exponential\",\n",
    "    beta = 0.95\n",
    "):\n",
    "    curState = initialState\n",
    "    curScore = utilityFunction(curState)\n",
    "\n",
    "    bestState = curState\n",
    "    bestScore = curScore\n",
    "\n",
    "    curTemperature = initialTemperature\n",
    "    while curTemperature > tolerance:\n",
    "        for step in range(simulationSteps):\n",
    "            candidateNeighborState = neighborsFunction(curState)\n",
    "            candidateNeighborScore = utilityFunction(candidateNeighborState)\n",
    "            \n",
    "            delta = candidateNeighborScore - curScore\n",
    "            transitionProb = min(1, np.exp(-(delta)/curTemperature))\n",
    "            if np.random.binomial(n = 1, p = transitionProb) == 1:\n",
    "                curState = candidateNeighborState\n",
    "                curScore = candidateNeighborScore\n",
    "            \n",
    "                if curScore <= bestScore:\n",
    "                    bestState = curState\n",
    "                    bestScore = curScore\n",
    "\n",
    "        curTemperature = (curTemperature * beta) if annealingStrat == \"exponential\" else (curTemperature - beta)\n",
    "    return bestState, bestScore"
   ]
  },
  {
   "attachments": {},
   "cell_type": "markdown",
   "metadata": {},
   "source": [
    "# **Neighbors**"
   ]
  },
  {
   "cell_type": "code",
   "execution_count": 57,
   "metadata": {},
   "outputs": [],
   "source": [
    "def singleMovementNeighbors(cube: np.ndarray) -> np.ndarray:\n",
    "    sampledMovement = np.random.choice(MOVEMENTS, 1).item()\n",
    "    newCube = turn(cube, movements = sampledMovement)\n",
    "    return newCube"
   ]
  },
  {
   "attachments": {},
   "cell_type": "markdown",
   "metadata": {},
   "source": [
    "# **Utility**"
   ]
  },
  {
   "attachments": {},
   "cell_type": "markdown",
   "metadata": {},
   "source": [
    "## **Total Incorrect Colors**"
   ]
  },
  {
   "cell_type": "code",
   "execution_count": 75,
   "metadata": {},
   "outputs": [],
   "source": [
    "def totalIncorrectColors(cube: np.ndarray):\n",
    "    totalIncorrect = 0\n",
    "    for face in FACES:\n",
    "        cubeFaceColors = cube[face]\n",
    "        faceIncorrectColorsCount = (cubeFaceColors != FACE_COLORS[face]).sum()\n",
    "        totalIncorrect += faceIncorrectColorsCount\n",
    "    return totalIncorrect"
   ]
  },
  {
   "attachments": {},
   "cell_type": "markdown",
   "metadata": {},
   "source": [
    "# **Experiments**"
   ]
  },
  {
   "cell_type": "code",
   "execution_count": 59,
   "metadata": {},
   "outputs": [],
   "source": [
    "np.random.seed(10)\n",
    "cubesSample = sampleCube(nSamples = 200)"
   ]
  },
  {
   "cell_type": "code",
   "execution_count": 70,
   "metadata": {},
   "outputs": [
    {
     "name": "stderr",
     "output_type": "stream",
     "text": [
      "100%|██████████| 1/1 [00:02<00:00,  2.68s/it]"
     ]
    },
    {
     "name": "stdout",
     "output_type": "stream",
     "text": [
      "6\n"
     ]
    },
    {
     "name": "stderr",
     "output_type": "stream",
     "text": [
      "\n"
     ]
    }
   ],
   "source": [
    "best = []\n",
    "for cube, movements in tqdm(cubesSample): \n",
    "    bestSolution, bestScore = simulatedAnnealing(\n",
    "        cube, \n",
    "        singleMovementNeighbors,\n",
    "        totalIncorrectColors,\n",
    "        initialTemperature = 5000, \n",
    "        simulationSteps = 100,\n",
    "        tolerance = 1e-5,\n",
    "        annealingStrat = \"exponential\",\n",
    "        beta = 0.95\n",
    "    )\n",
    "    best.append([bestSolution, bestScore])\n",
    "    print(bestScore)"
   ]
  },
  {
   "cell_type": "code",
   "execution_count": 72,
   "metadata": {},
   "outputs": [
    {
     "data": {
      "text/plain": [
       "6"
      ]
     },
     "execution_count": 72,
     "metadata": {},
     "output_type": "execute_result"
    }
   ],
   "source": [
    "np.min([i[1] for i in best])"
   ]
  },
  {
   "cell_type": "code",
   "execution_count": null,
   "metadata": {},
   "outputs": [],
   "source": []
  },
  {
   "cell_type": "code",
   "execution_count": null,
   "metadata": {},
   "outputs": [],
   "source": []
  },
  {
   "cell_type": "code",
   "execution_count": null,
   "metadata": {},
   "outputs": [],
   "source": []
  },
  {
   "cell_type": "code",
   "execution_count": null,
   "metadata": {},
   "outputs": [],
   "source": []
  },
  {
   "cell_type": "code",
   "execution_count": null,
   "metadata": {},
   "outputs": [],
   "source": []
  },
  {
   "cell_type": "code",
   "execution_count": null,
   "metadata": {},
   "outputs": [],
   "source": []
  },
  {
   "cell_type": "code",
   "execution_count": null,
   "metadata": {},
   "outputs": [],
   "source": []
  },
  {
   "cell_type": "code",
   "execution_count": null,
   "metadata": {},
   "outputs": [],
   "source": []
  },
  {
   "cell_type": "code",
   "execution_count": null,
   "metadata": {},
   "outputs": [],
   "source": [
    "# This function may be useful for sampling cubes at random (uniformly)\n",
    "def uniformMovementsSampling(sequenceSize = 200, nSamples = 1000):\n",
    "    clockwiseMovements = [\"R\", \"L\", \"U\", \"D\", \"F\", \"B\"]\n",
    "    counterClockwiseMovements = [f\"{movement}'\" for movement in clockwiseMovements]\n",
    "    doubleMovements = [f\"{movement}2\" for movement in clockwiseMovements]\n",
    "    allowedMovements = [*clockwiseMovements, *counterClockwiseMovements, *doubleMovements]\n",
    "    sampledMovements = []\n",
    "    for sample in range(nSamples):\n",
    "        sampledSequence = np.random.choice(allowedMovements, sequenceSize, replace = True)\n",
    "        sampledSequence = \" \".join(sampledSequence)\n",
    "        sampledMovements.append(sampledSequence)\n",
    "    return sampledMovements"
   ]
  },
  {
   "cell_type": "code",
   "execution_count": 19,
   "metadata": {},
   "outputs": [],
   "source": [
    "cube = createSolvedCube()"
   ]
  },
  {
   "cell_type": "code",
   "execution_count": 20,
   "metadata": {},
   "outputs": [
    {
     "data": {
      "image/png": "[encoded data removed]",
      "text/plain": [
       "<Figure size 800x800 with 1 Axes>"
      ]
     },
     "metadata": {},
     "output_type": "display_data"
    }
   ],
   "source": [
    "showCube(cube)"
   ]
  },
  {
   "cell_type": "code",
   "execution_count": 21,
   "metadata": {},
   "outputs": [
    {
     "data": {
      "image/png": "[encoded data removed]",
      "text/plain": [
       "<Figure size 800x800 with 1 Axes>"
      ]
     },
     "metadata": {},
     "output_type": "display_data"
    }
   ],
   "source": [
    "showCube(turn(cube, movements = \"R2 L' D F2 R' D' R' L U' D R D B2 R' U D2\"))"
   ]
  },
  {
   "cell_type": "code",
   "execution_count": 22,
   "metadata": {},
   "outputs": [
    {
     "data": {
      "image/png": "[encoded data removed]",
      "text/plain": [
       "<Figure size 800x800 with 1 Axes>"
      ]
     },
     "metadata": {},
     "output_type": "display_data"
    }
   ],
   "source": [
    "showCube(turn(cube, movements = \"F L F U' R U F2 L2 U' L' B D' B' L2 U\"))"
   ]
  },
  {
   "cell_type": "code",
   "execution_count": 23,
   "metadata": {},
   "outputs": [
    {
     "data": {
      "image/png": "[encoded data removed]",
      "text/plain": [
       "<Figure size 800x800 with 1 Axes>"
      ]
     },
     "metadata": {},
     "output_type": "display_data"
    }
   ],
   "source": [
    "showCube(turn(cube, movements = \"U D' R L' F B' U D'\"))"
   ]
  },
  {
   "attachments": {},
   "cell_type": "markdown",
   "metadata": {},
   "source": [
    "# **Utility Functions**"
   ]
  },
  {
   "attachments": {},
   "cell_type": "markdown",
   "metadata": {},
   "source": [
    "## **State as Sequence of K Movements**"
   ]
  },
  {
   "attachments": {},
   "cell_type": "markdown",
   "metadata": {},
   "source": [
    "### **Function 1: Fraction of correct colors**"
   ]
  },
  {
   "cell_type": "code",
   "execution_count": 24,
   "metadata": {},
   "outputs": [],
   "source": [
    "def fractionCorrectColors(cube: np.ndarray, referenceCube: np.ndarray):\n",
    "    totalCorrect = 0\n",
    "    for face in FACES:\n",
    "        faceColors = cube[face]\n",
    "        referenceFaceColors = referenceCube[face]\n",
    "        faceCorrectColorsCount = (faceColors == referenceFaceColors).sum()\n",
    "        totalCorrect += faceCorrectColorsCount\n",
    "    score = 1 - (totalCorrect - 6) / (9*6 - 6)\n",
    "    return score"
   ]
  },
  {
   "attachments": {},
   "cell_type": "markdown",
   "metadata": {},
   "source": [
    "### **Function 2: Weighted fraction of correct cubies**"
   ]
  },
  {
   "cell_type": "code",
   "execution_count": 25,
   "metadata": {},
   "outputs": [],
   "source": [
    "def weightedFractionWrongCubies(cube: np.ndarray, referenceCube: np.ndarray, cornerWeight: int = 1, borderWeight: int = 1):\n",
    "    totalWrong = 0\n",
    "    for cubieFaces in ALL_CUBIES.values():\n",
    "        isWrong = False\n",
    "        for face, i, j in cubieFaces:\n",
    "            cubieFaceColor = cube[face, i, j]\n",
    "            referenceFaceColor = referenceCube[face, i, j]\n",
    "            if cubieFaceColor != referenceFaceColor:\n",
    "                isWrong = True\n",
    "                break\n",
    "        if isWrong:\n",
    "            weight = cornerWeight if len(cubieFaces) == 3 else borderWeight\n",
    "            totalWrong += weight\n",
    "    normalizationConstant = 8 * cornerWeight + 12 * borderWeight\n",
    "    score = totalWrong / normalizationConstant\n",
    "    return score"
   ]
  },
  {
   "attachments": {},
   "cell_type": "markdown",
   "metadata": {},
   "source": [
    "### **Function 3: Total shortest movements to independently fix all cubies positions**"
   ]
  },
  {
   "cell_type": "code",
   "execution_count": 26,
   "metadata": {},
   "outputs": [],
   "source": [
    "# TODO: This function is not working as expected. I need to revisit it.\n",
    "# def totalIndependentMomentes(cube: np.ndarray, referenceCube: np.ndarray):\n",
    "#     referenceColors2Coordinates = {\n",
    "#         tuple(sorted([int(referenceCube[cubieFace]) for cubieFace in cubieFaces])): cubieCoord for cubieCoord, cubieFaces in ALL_CUBIES.items()\n",
    "#     }\n",
    "#     coordinates2Colors = {\n",
    "#         cubieCoord: tuple(sorted([int(cube[cubieFace]) for cubieFace in cubieFaces])) for cubieCoord, cubieFaces in ALL_CUBIES.items()\n",
    "#     }\n",
    "#     totalIndependentMovements = 0\n",
    "#     for cubieCoordinate, cubieColors in coordinates2Colors.items():\n",
    "#         cubieCoordinate = np.array(cubieCoordinate)\n",
    "#         referenceCubieCoordinate = np.array(referenceColors2Coordinates[cubieColors])\n",
    "#         # TODO: We needed to divide by 2, but I need to double check and explain the reason for that (there are 1 cubie between two potential locations that a given cubie can occupy.)\n",
    "#         delta = (referenceCubieCoordinate - cubieCoordinate)/2\n",
    "#         manhattanDistance = np.linalg.norm(delta, ord = 1)\n",
    "#         totalIndependentMovements += manhattanDistance\n",
    "#     return totalIndependentMovements"
   ]
  },
  {
   "attachments": {},
   "cell_type": "markdown",
   "metadata": {},
   "source": [
    "### **Function 4: Fraction of correct pairs of cubies**"
   ]
  },
  {
   "cell_type": "code",
   "execution_count": 27,
   "metadata": {},
   "outputs": [],
   "source": [
    "def fractionWrongCubiePairs(cube: np.ndarray, referenceCube: np.ndarray):\n",
    "    # TODO: I need to check if this function is working correctly\n",
    "    totalWrongPairs = 0\n",
    "    for cubieCoord, cubieFaces in ALL_CUBIES.items():\n",
    "        cubieFacesCount = len(cubieFaces)\n",
    "        cubieType = \"corner\" if cubieFacesCount == 3 else \"border\" if cubieFacesCount == 2 else \"center\"\n",
    "        cubieCoord = np.array(cubieCoord)\n",
    "        for delta in [(0,0,1), (0,0,-1), (0,1,0), (0,-1,0), (1,0,0), (-1,0,0)]:\n",
    "            delta = np.array(delta)\n",
    "            nextCubieCoord = cubieCoord + delta\n",
    "            nextCubieIsValid = all(np.abs(nextCubieCoord) <= 1)  and any(nextCubieCoord != 0)\n",
    "            if nextCubieIsValid:\n",
    "                nextCubieFaces = ALL_CUBIES[tuple(nextCubieCoord)]\n",
    "                nextCubieFacesCount = len(nextCubieFaces)\n",
    "                nextCubieType = \"corner\" if nextCubieFacesCount == 3 else \"border\" if nextCubieFacesCount == 2 else \"center\"\n",
    "                \n",
    "                # TODO: This is not totally correct because I need to consider the orientations of the cubies\n",
    "                allColors = [cube[face] for face in cubieFaces]\n",
    "                allColors += [cube[face] for face in nextCubieFaces]\n",
    "                allColors = set(allColors)\n",
    "                allColorsCount = len(allColors)\n",
    "\n",
    "                if cubieType == \"corner\" and allColorsCount > 3:\n",
    "                    totalWrongPairs += 1\n",
    "                \n",
    "                elif cubieType == \"border\" and nextCubieType > \"corner\" and allColorsCount > 3:\n",
    "                    totalWrongPairs += 1\n",
    "                \n",
    "                elif cubieType == \"border\" and nextCubieType == \"center\" and allColorsCount > 2:\n",
    "                    totalWrongPairs += 1\n",
    "                \n",
    "                elif cubieType == \"center\" and allColorsCount > 2:\n",
    "                    totalWrongPairs += 1\n",
    "\n",
    "    normalizationConstant = 8 * 3 + 12 * 4 + 6 * 4\n",
    "    return totalWrongPairs/normalizationConstant"
   ]
  },
  {
   "attachments": {},
   "cell_type": "markdown",
   "metadata": {},
   "source": [
    "### **Function 5: Total correct edges (two corner cubies + 1 border cubie)**"
   ]
  },
  {
   "cell_type": "code",
   "execution_count": 28,
   "metadata": {},
   "outputs": [
    {
     "data": {
      "text/plain": [
       "{1: 1.0, 2: 2.0}"
      ]
     },
     "execution_count": 28,
     "metadata": {},
     "output_type": "execute_result"
    }
   ],
   "source": [
    "borderCubieCoord, borderCubieFaces = [*BORDER_CUBIES.items()][0]\n",
    "targetCoord = borderCubieCoord.index(0)\n",
    "delta = [np.zeros(3), np.zeros(3)]\n",
    "delta[0][targetCoord] = 1\n",
    "delta[1][targetCoord] = -1\n",
    "\n",
    "borderCubieCoord = np.array(borderCubieCoord)\n",
    "\n",
    "neighborCornerCubiesCoord = [borderCubieCoord + v for v in delta]\n",
    "borderCubieFaceColors = {face[0]: cube[face] for face in borderCubieFaces}\n",
    "borderCubieFaceColors"
   ]
  },
  {
   "cell_type": "code",
   "execution_count": 29,
   "metadata": {},
   "outputs": [],
   "source": [
    "def totalCorrectEdges(cube: np.ndarray, referenceCube: np.ndarray = None):\n",
    "    totalCorrect = 0\n",
    "\n",
    "    for borderCubieCoord, borderCubieFaces in BORDER_CUBIES.items():\n",
    "        targetCoord = borderCubieCoord.index(0)\n",
    "        delta = [np.zeros(3), np.zeros(3)]\n",
    "        delta[0][targetCoord] = 1\n",
    "        delta[1][targetCoord] = -1\n",
    "\n",
    "        borderCubieCoord = np.array(borderCubieCoord)\n",
    "        borderCubieFaceColors = {face[0]: cube[face] for face in borderCubieFaces}\n",
    "\n",
    "        neighborCornerCubiesCoord = [borderCubieCoord + v for v in delta]\n",
    "        \n",
    "        isCorrect = True\n",
    "        for neighborCubieCoord in neighborCornerCubiesCoord:\n",
    "            neighborCubieFaces = CORNER_CUBIES[tuple(neighborCubieCoord)]\n",
    "            neighborCubieFaceColors = {face[0]: cube[face] for face in neighborCubieFaces}\n",
    "            for face in borderCubieFaceColors:\n",
    "                if borderCubieFaceColors[face] != neighborCubieFaceColors[face]:\n",
    "                    isCorrect = False\n",
    "                    break\n",
    "        \n",
    "        if isCorrect:\n",
    "            totalCorrect += 1\n",
    "\n",
    "    return totalCorrect         "
   ]
  },
  {
   "cell_type": "code",
   "execution_count": 30,
   "metadata": {},
   "outputs": [],
   "source": [
    "def evaluateState(state: str, initialCube, referenceCube, utilityMultFactor, utilityFunc, **kwargs):\n",
    "    movements = state\n",
    "    cube = turn(initialCube, movements = movements)\n",
    "    score = utilityFunc(cube, referenceCube, **kwargs)\n",
    "    return score*utilityMultFactor"
   ]
  },
  {
   "attachments": {},
   "cell_type": "markdown",
   "metadata": {},
   "source": [
    "# **Transitions**"
   ]
  },
  {
   "cell_type": "code",
   "execution_count": 31,
   "metadata": {},
   "outputs": [],
   "source": [
    "def kLengthMovementNeighbors(state: str):\n",
    "    allowedMovements = [\"R\", \"L\", \"F\", \"B\", \"U\", \"D\"]\n",
    "    allowedMovements += [\"R'\", \"L'\", \"F'\", \"B'\", \"U'\", \"D'\"]\n",
    "    allowedMovements += [\"R2\", \"L2\", \"F2\", \"B2\", \"U2\", \"D2\"]\n",
    "    \n",
    "    movements = state.split(\" \")\n",
    "    movementIndex = np.random.choice(range(len(movements)), 1)[0]\n",
    "    neighbors = []\n",
    "    for newMovement in allowedMovements:\n",
    "        neighbors.append([*movements])\n",
    "        neighbors[-1][movementIndex] = newMovement\n",
    "        neighbors[-1] = \" \".join(neighbors[-1])\n",
    "\n",
    "    totalNeighbors = len(neighbors)\n",
    "    probabilities = np.array([1/totalNeighbors for i in range(totalNeighbors)])\n",
    "    result = {\n",
    "        neighbor: probability for neighbor, probability in zip(neighbors, probabilities)\n",
    "    }\n",
    "    return result"
   ]
  },
  {
   "cell_type": "code",
   "execution_count": 32,
   "metadata": {},
   "outputs": [],
   "source": [
    "# TODO: Corrigir erro devido à existência de pares de estados (i,j) onde j é vizinho de i, mas i não é vizinho de j. Como ficaria o cálculo da probabilidade de aceitação?\n",
    "def atMostKMovementNeighbors(state: str):\n",
    "    allowedMovements = [\"X\"]\n",
    "    allowedMovements += [\"R\", \"L\", \"F\", \"B\", \"U\", \"D\"]\n",
    "    allowedMovements += [\"R'\", \"L'\", \"F'\", \"B'\", \"U'\", \"D'\"]\n",
    "    allowedMovements += [\"R2\", \"L2\", \"F2\", \"B2\", \"U2\", \"D2\"]\n",
    "    \n",
    "    allMovements = state.split(\" \")\n",
    "    totalAllMovements = len(allMovements)\n",
    "    \n",
    "    neighbors = []\n",
    "    for movementIndex in range(totalAllMovements):\n",
    "        for newMovement in allowedMovements:\n",
    "            neighbors.append([*allMovements])\n",
    "            neighbors[-1][movementIndex] = newMovement\n",
    "            neighbors[-1] = \" \".join(neighbors[-1])\n",
    "    neighbors = list(set(neighbors))\n",
    "\n",
    "    totalNeighbors = len(neighbors)\n",
    "    probabilities = np.array([1/totalNeighbors for i in range(totalNeighbors)])\n",
    "    result = {\n",
    "        neighbor: probability for neighbor, probability in zip(neighbors, probabilities)\n",
    "    }\n",
    "    return result"
   ]
  },
  {
   "cell_type": "code",
   "execution_count": 33,
   "metadata": {},
   "outputs": [],
   "source": [
    "# TODO: Permitir que sejam desfeitos os últimos movimentos. Atualmente, permito apenas que o último movimento seja desfeito, pois não sei como calcular a probabilidade de aceitação quando existem pares de estados (i,j) onde j é vizinho de i, mas i não é vizinho de j.\n",
    "def sequentialMovementNeighbors(state: str, sampleStrategy = \"uniform\"):\n",
    "    allowedMovements = [\"R\", \"L\", \"F\", \"B\", \"U\", \"D\"]\n",
    "    allowedMovements += [\"R'\", \"L'\", \"F'\", \"B'\", \"U'\", \"D'\"]\n",
    "    allowedMovements += [\"R2\", \"L2\", \"F2\", \"B2\", \"U2\", \"D2\"]\n",
    "\n",
    "    allMovements = state.split(\" \")\n",
    "    numAllMovements = len(allMovements)\n",
    "\n",
    "    nonIdleMovements = [movement for movement in allMovements if movement != \"X\"]\n",
    "    numNonIdleMovements = len(nonIdleMovements)\n",
    "    \n",
    "    if numNonIdleMovements == numAllMovements: # All movements are different than \"X\"\n",
    "        movementIndex = -1\n",
    "        allowedMovements = []\n",
    "\n",
    "    elif numNonIdleMovements == 0: # All movements are \"X\"\n",
    "        movementIndex = 0\n",
    "    \n",
    "    else: \n",
    "        movementIndex = numNonIdleMovements\n",
    "\n",
    "    neighbors = []\n",
    "    for newMovement in allowedMovements:\n",
    "        neighbors.append([*nonIdleMovements, *[\"X\" for i in range(numAllMovements - numNonIdleMovements)]])\n",
    "        neighbors[-1][movementIndex] = newMovement\n",
    "        neighbors[-1] = \" \".join(neighbors[-1])\n",
    "    \n",
    "    for i in range(numNonIdleMovements-1, numNonIdleMovements):\n",
    "        neighbors.append([*nonIdleMovements[:i], *[\"X\" for i in range(numAllMovements - i)]])\n",
    "        neighbors[-1] = \" \".join(neighbors[-1])\n",
    "\n",
    "    if sampleStrategy == \"uniform\":\n",
    "        probabilities = [1 for neighbor in neighbors]\n",
    "    elif sampleStrategy == \"prioritize-new-movements\":\n",
    "        probabilities = [numAllMovements - len(re.findall(r\"X\", neighbor)) + 1 for neighbor in neighbors]\n",
    "    else: \n",
    "        raise ValueError(\"Sample strategy should be either 'uniform' or 'prioritize-new-movemnts'\")\n",
    "    probabilities = np.array(probabilities)/np.sum(probabilities)\n",
    "    result = {\n",
    "        neighbor: probability for neighbor, probability in zip(neighbors, probabilities)\n",
    "    }\n",
    "    return result"
   ]
  },
  {
   "attachments": {},
   "cell_type": "markdown",
   "metadata": {},
   "source": [
    "# **Simulated Annealing**"
   ]
  },
  {
   "cell_type": "code",
   "execution_count": 34,
   "metadata": {},
   "outputs": [],
   "source": [
    "def simulatedAnnealing(s0, neighborsFunc, utilityFunc, t0: float = 1000, tolerance = 0.0001, strategy = \"exponential\", beta = 0.9):\n",
    "    t = t0\n",
    "    currentState = s0\n",
    "    currentScore = utilityFunc(currentState)\n",
    "    bestState = currentState\n",
    "    bestScore = currentScore\n",
    "    while t > tolerance:\n",
    "        currentStateNeighbors = neighborsFunc(currentState)\n",
    "\n",
    "        candidateState = np.random.choice(list(currentStateNeighbors.keys()), 1, p = list(currentStateNeighbors.values()))[0]\n",
    "        candidateScore = utilityFunc(candidateState)\n",
    "\n",
    "        candidateStateNeighbors = neighborsFunc(candidateState)\n",
    "\n",
    "        cur2candTransitionProb = currentStateNeighbors[candidateState]\n",
    "        cand2curTransitionProb = candidateStateNeighbors[currentState]\n",
    "\n",
    "        acceptanceTerm1 = (currentScore - candidateScore)/t\n",
    "        acceptanceTerm2 = np.log(cand2curTransitionProb)\n",
    "        acceptanceTerm3 = np.log(cur2candTransitionProb)\n",
    "\n",
    "        acceptanceProbability = np.min([0, acceptanceTerm1 + acceptanceTerm2 - acceptanceTerm3])\n",
    "\n",
    "        if np.random.rand() <= np.exp(acceptanceProbability):\n",
    "            currentState = candidateState\n",
    "            currentScore = candidateScore\n",
    "            if currentScore < bestScore:\n",
    "                print(currentState, currentScore)\n",
    "                bestState = currentState\n",
    "                bestScore = currentScore\n",
    "\n",
    "        if strategy == \"exponential\":\n",
    "            t = t * beta\n",
    "        elif strategy == \"linear\":\n",
    "            t = t - beta\n",
    "        else:\n",
    "            raise ValueError(\"Strategy should be exponential or linear.\")\n",
    "    \n",
    "    return bestState, bestScore"
   ]
  },
  {
   "attachments": {},
   "cell_type": "markdown",
   "metadata": {},
   "source": [
    "# **Just for test purposes**"
   ]
  },
  {
   "cell_type": "code",
   "execution_count": null,
   "metadata": {},
   "outputs": [],
   "source": [
    "cube = createSolvedCube()\n",
    "# shuffledCube = turn(cube, \"U' R F' R'\")\n",
    "shuffledCube = turn(cube, \"F L F U' R U F2 L2 U' L' B D' B' L2 U\")\n",
    "solutionState, solutionScore = simulatedAnnealing(\n",
    "    \"U D2 R U L2 U L R' D B2 U D2 R U L2 U\", \n",
    "    lambda state: atMostKMovementNeighbors(state), \n",
    "    lambda state: evaluateState(state, shuffledCube, cube, 1, totalCorrectEdges),\n",
    "    beta = 0.01,\n",
    "    strategy = \"linear\",\n",
    "    t0 = 2000\n",
    ")\n",
    "print(solutionState, solutionScore)\n",
    "showCube(shuffledCube)\n",
    "showCube(turn(shuffledCube, movements = solutionState))"
   ]
  },
  {
   "cell_type": "code",
   "execution_count": 76,
   "metadata": {},
   "outputs": [
    {
     "name": "stdout",
     "output_type": "stream",
     "text": [
      "B' R2 R' B 0.35\n",
      "B' B R X 0.0\n",
      "B' B R X 0.0\n"
     ]
    },
    {
     "data": {
      "image/png": "[encoded data removed]",
      "text/plain": [
       "<Figure size 800x800 with 1 Axes>"
      ]
     },
     "metadata": {},
     "output_type": "display_data"
    },
    {
     "data": {
      "image/png": "[encoded data removed]",
      "text/plain": [
       "<Figure size 800x800 with 1 Axes>"
      ]
     },
     "metadata": {},
     "output_type": "display_data"
    }
   ],
   "source": [
    "cube = createSolvedCube()\n",
    "# shuffledCube = turn(cube, \"U' R F' R'\")\n",
    "shuffledCube = turn(cube, \"F L F U' R U F2 L2 U' L' B D' B' L2 U R' B D' L2 U D R X B' B U U' L2 L2 B X\")\n",
    "solutionState, solutionScore = simulatedAnnealing(\n",
    "    \"X X X X X X X\", \n",
    "    lambda state: sequentialMovementNeighbors(state, sampleStrategy = \"prioritize-new-movements\"), \n",
    "    lambda state: evaluateState(state, shuffledCube, cube, 1, weightedFractionWrongCubies),\n",
    "    beta = 0.01,\n",
    "    strategy = \"linear\",\n",
    "    t0 = 1000\n",
    ")\n",
    "print(solutionState, solutionScore)\n",
    "showCube(shuffledCube)\n",
    "showCube(turn(shuffledCube, movements = solutionState))"
   ]
  },
  {
   "cell_type": "code",
   "execution_count": null,
   "metadata": {},
   "outputs": [],
   "source": []
  }
 ],
 "metadata": {
  "kernelspec": {
   "display_name": "Python 3",
   "language": "python",
   "name": "python3"
  },
  "language_info": {
   "codemirror_mode": {
    "name": "ipython",
    "version": 3
   },
   "file_extension": ".py",
   "mimetype": "text/x-python",
   "name": "python",
   "nbconvert_exporter": "python",
   "pygments_lexer": "ipython3",
   "version": "3.8.10"
  },
  "orig_nbformat": 4
 },
 "nbformat": 4,
 "nbformat_minor": 2
}
